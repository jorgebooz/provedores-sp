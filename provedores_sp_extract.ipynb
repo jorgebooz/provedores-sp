{
  "nbformat": 4,
  "nbformat_minor": 0,
  "metadata": {
    "colab": {
      "provenance": [],
      "mount_file_id": "1mZsMl8yowSc3TxapP1-XCQ2-l-an2jV3",
      "authorship_tag": "ABX9TyMG8UabbkLMMh5V3G6Y2nH2"
    },
    "kernelspec": {
      "name": "python3",
      "display_name": "Python 3"
    },
    "language_info": {
      "name": "python"
    }
  },
  "cells": [
    {
      "cell_type": "code",
      "source": [
        "import zipfile\n",
        "import io\n",
        "import requests\n",
        "import pandas as pd\n",
        "import os\n",
        "from google.colab import drive\n"
      ],
      "metadata": {
        "id": "pjREm84yCn0Q"
      },
      "execution_count": null,
      "outputs": []
    },
    {
      "cell_type": "code",
      "source": [
        "\n",
        "drive.mount('/content/drive/MyDrive/PROVEDORES_SP')"
      ],
      "metadata": {
        "colab": {
          "base_uri": "https://localhost:8080/"
        },
        "id": "6sIiSD6esA9b",
        "outputId": "cfaf78ad-44f7-4bdc-da7f-634ad2ff537b"
      },
      "execution_count": null,
      "outputs": [
        {
          "output_type": "stream",
          "name": "stdout",
          "text": [
            "Drive already mounted at /content/drive; to attempt to forcibly remount, call drive.mount(\"/content/drive\", force_remount=True).\n"
          ]
        }
      ]
    },
    {
      "cell_type": "code",
      "source": [
        "interest_files = [\n",
        "    \"Acessos_Banda_Larga_Fixa_2021.csv\",\n",
        "    \"Acessos_Banda_Larga_Fixa_2022.csv\",\n",
        "    \"Acessos_Banda_Larga_Fixa_2023.csv\",\n",
        "    \"Acessos_Banda_Larga_Fixa_2024.csv\",\n",
        "]"
      ],
      "metadata": {
        "id": "0rd8R9q7F7pt"
      },
      "execution_count": null,
      "outputs": []
    },
    {
      "cell_type": "code",
      "source": [
        "url = \"https://www.anatel.gov.br/dadosabertos/paineis_de_dados/acessos/acessos_banda_larga_fixa.zip\"\n",
        "extract_folder = \"raw\"\n",
        "\n",
        "response = requests.get(url)\n",
        "zip_content = io.BytesIO(response.content)\n",
        "\n",
        "with zipfile.ZipFile(zip_content, 'r') as zip_ref:\n",
        "    for arquivo in zip_ref.namelist():\n",
        "        if arquivo in interest_files:\n",
        "            zip_ref.extract(arquivo, extract_folder)\n",
        "            print(f\"Arquivo extraído: {arquivo}\")\n"
      ],
      "metadata": {
        "id": "I2HIfFsS_vak"
      },
      "execution_count": null,
      "outputs": []
    },
    {
      "cell_type": "code",
      "source": [
        "df_list = []\n",
        "for i in range(1, 5):\n",
        "    var_name = f\"df_vinte_{i}\"\n",
        "    globals()[var_name] = pd.read_csv(f\"raw/Acessos_Banda_Larga_Fixa_202{i}.csv\", sep=\";\")\n",
        "    df_list.append(globals()[var_name])"
      ],
      "metadata": {
        "id": "qXH5g-xlGmqo"
      },
      "execution_count": null,
      "outputs": []
    },
    {
      "cell_type": "code",
      "source": [
        "def drop_null(df):\n",
        "    df.dropna(inplace=True)\n",
        "    return df"
      ],
      "metadata": {
        "id": "rHa0kWN9FdHM"
      },
      "execution_count": null,
      "outputs": []
    },
    {
      "cell_type": "code",
      "source": [
        "for i in range(len(df_list)):\n",
        "  df_list[i] = drop_null(df_list[i])"
      ],
      "metadata": {
        "id": "wNj8JVjLIZpA"
      },
      "execution_count": null,
      "outputs": []
    },
    {
      "cell_type": "code",
      "source": [
        "df_vinte = pd.concat(df_list, ignore_index=True)\n",
        "\n",
        "df_sp = df_vinte[df_vinte['UF'] == 'SP']\n",
        "df_sp = df_sp.drop(columns=['UF', 'CNPJ'])"
      ],
      "metadata": {
        "id": "wTmGaJBXNiVu"
      },
      "execution_count": null,
      "outputs": []
    },
    {
      "cell_type": "code",
      "source": [
        "df_sp = df_sp.rename(columns={'Ano': 'ano',\n",
        "                              'Mês': 'mes',\n",
        "                              'Grupo Econômico':\n",
        "                              'grupo_economico',\n",
        "                              'Empresa': 'empresa',\n",
        "                              'Porte da Prestadora': 'porte_prestadora',\n",
        "                              'Município': 'municipio',\n",
        "                              'Código IBGE Município': 'cod.municipio',\n",
        "                              'Faixa de Velocidade': 'faixa_velocidade',\n",
        "                              'Velocidade': 'velocidade',\n",
        "                              'Tecnologia': 'tecnologia',\n",
        "                              'Meio de Acesso': 'meio_acesso',\n",
        "                              'Tipo de Pessoa': 'tipo_pessoa',\n",
        "                              'Tipo de Produto': 'tipo_produto',\n",
        "                              'Acessos': 'acessos'})"
      ],
      "metadata": {
        "id": "npPw2WHpSQVF"
      },
      "execution_count": null,
      "outputs": []
    },
    {
      "cell_type": "code",
      "source": [
        "df_sp.velocidade = df_sp.velocidade.str.replace(',', '.').astype(float)\n",
        "df_sp['empresa'] = df_sp['empresa'].str.upper().str.strip()\n",
        "df_sp['grupo_economico'] = df_sp['grupo_economico'].str.upper().str.strip()\n"
      ],
      "metadata": {
        "id": "92qLmu6hYyhR"
      },
      "execution_count": null,
      "outputs": []
    },
    {
      "cell_type": "code",
      "source": [
        "output_path = '/content/drive/MyDrive/PROVEDORES_SP/processed/Acessos_Banda_Larga_Fixa_2021-2024_Exportado.csv'\n",
        "df_sp.to_csv(output_path, index=False)"
      ],
      "metadata": {
        "id": "GYLES9mCepq6"
      },
      "execution_count": null,
      "outputs": []
    }
  ]
}